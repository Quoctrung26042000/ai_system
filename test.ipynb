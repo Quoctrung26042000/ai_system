{
 "cells": [
  {
   "cell_type": "code",
   "execution_count": 4,
   "metadata": {},
   "outputs": [
    {
     "name": "stderr",
     "output_type": "stream",
     "text": [
      "2023-12-24 19:22:53.635479: E external/local_xla/xla/stream_executor/cuda/cuda_dnn.cc:9261] Unable to register cuDNN factory: Attempting to register factory for plugin cuDNN when one has already been registered\n",
      "2023-12-24 19:22:53.635503: E external/local_xla/xla/stream_executor/cuda/cuda_fft.cc:607] Unable to register cuFFT factory: Attempting to register factory for plugin cuFFT when one has already been registered\n",
      "2023-12-24 19:22:53.636364: E external/local_xla/xla/stream_executor/cuda/cuda_blas.cc:1515] Unable to register cuBLAS factory: Attempting to register factory for plugin cuBLAS when one has already been registered\n",
      "2023-12-24 19:22:53.641772: I tensorflow/core/platform/cpu_feature_guard.cc:182] This TensorFlow binary is optimized to use available CPU instructions in performance-critical operations.\n",
      "To enable the following instructions: AVX2 FMA, in other operations, rebuild TensorFlow with the appropriate compiler flags.\n",
      "2023-12-24 19:22:54.391406: W tensorflow/compiler/tf2tensorrt/utils/py_utils.cc:38] TF-TRT Warning: Could not find TensorRT\n"
     ]
    }
   ],
   "source": [
    "import os\n",
    "import numpy as np\n",
    "import pandas as pd\n",
    "import tensorflow as tf\n",
    "import sys \n",
    "sys.path.append('./deep_face')\n",
    "from deepface import DeepFace"
   ]
  },
  {
   "cell_type": "code",
   "execution_count": 5,
   "metadata": {},
   "outputs": [],
   "source": [
    "\n",
    "def extract_features(img_path):\n",
    "  embedding_objs = DeepFace.represent(img_path, model_name='Facenet512', enforce_detection=False)\n",
    "  return embedding_objs[0]['embedding']"
   ]
  },
  {
   "cell_type": "code",
   "execution_count": 3,
   "metadata": {},
   "outputs": [],
   "source": [
    "\n",
    "from tqdm import tqdm"
   ]
  },
  {
   "cell_type": "code",
   "execution_count": 4,
   "metadata": {},
   "outputs": [
    {
     "name": "stdout",
     "output_type": "stream",
     "text": [
      "['HTMVan.10B1', 'TCTai.10B1', 'PPTuan.10B1', 'NDTAnh.10B1', 'HDAKiet.10B1', 'TCNNam.10B1', 'PTTHa.10B1']\n"
     ]
    },
    {
     "name": "stderr",
     "output_type": "stream",
     "text": [
      "100%|██████████| 7/7 [00:14<00:00,  2.04s/it]\n"
     ]
    }
   ],
   "source": [
    "root = 'datasets'\n",
    "data = []\n",
    "dirs = os.listdir(root)\n",
    "print(dirs)\n",
    "for dir in tqdm(dirs):\n",
    "  for img in os.listdir(os.path.join(root, dir)):\n",
    "     features = extract_features(os.path.join(root, dir, img))\n",
    "     features.insert(0, dir)\n",
    "     data.append(features)"
   ]
  },
  {
   "cell_type": "code",
   "execution_count": 5,
   "metadata": {},
   "outputs": [
    {
     "data": {
      "text/html": [
       "<div>\n",
       "<style scoped>\n",
       "    .dataframe tbody tr th:only-of-type {\n",
       "        vertical-align: middle;\n",
       "    }\n",
       "\n",
       "    .dataframe tbody tr th {\n",
       "        vertical-align: top;\n",
       "    }\n",
       "\n",
       "    .dataframe thead th {\n",
       "        text-align: right;\n",
       "    }\n",
       "</style>\n",
       "<table border=\"1\" class=\"dataframe\">\n",
       "  <thead>\n",
       "    <tr style=\"text-align: right;\">\n",
       "      <th></th>\n",
       "      <th>person name</th>\n",
       "      <th>f1</th>\n",
       "      <th>f2</th>\n",
       "      <th>f3</th>\n",
       "      <th>f4</th>\n",
       "      <th>f5</th>\n",
       "      <th>f6</th>\n",
       "      <th>f7</th>\n",
       "      <th>f8</th>\n",
       "      <th>f9</th>\n",
       "      <th>...</th>\n",
       "      <th>f503</th>\n",
       "      <th>f504</th>\n",
       "      <th>f505</th>\n",
       "      <th>f506</th>\n",
       "      <th>f507</th>\n",
       "      <th>f508</th>\n",
       "      <th>f509</th>\n",
       "      <th>f510</th>\n",
       "      <th>f511</th>\n",
       "      <th>f512</th>\n",
       "    </tr>\n",
       "  </thead>\n",
       "  <tbody>\n",
       "    <tr>\n",
       "      <th>0</th>\n",
       "      <td>HTMVan.10B1</td>\n",
       "      <td>0.322058</td>\n",
       "      <td>-0.433161</td>\n",
       "      <td>-0.672233</td>\n",
       "      <td>0.686782</td>\n",
       "      <td>-0.239042</td>\n",
       "      <td>0.528821</td>\n",
       "      <td>-0.515339</td>\n",
       "      <td>0.269433</td>\n",
       "      <td>-0.235005</td>\n",
       "      <td>...</td>\n",
       "      <td>-0.153020</td>\n",
       "      <td>0.075565</td>\n",
       "      <td>-0.272968</td>\n",
       "      <td>0.273718</td>\n",
       "      <td>0.294176</td>\n",
       "      <td>0.196406</td>\n",
       "      <td>0.295513</td>\n",
       "      <td>0.115156</td>\n",
       "      <td>0.034416</td>\n",
       "      <td>-0.239489</td>\n",
       "    </tr>\n",
       "    <tr>\n",
       "      <th>1</th>\n",
       "      <td>HTMVan.10B1</td>\n",
       "      <td>-0.799124</td>\n",
       "      <td>0.649721</td>\n",
       "      <td>-1.067423</td>\n",
       "      <td>1.807344</td>\n",
       "      <td>0.254739</td>\n",
       "      <td>-0.177150</td>\n",
       "      <td>-0.582705</td>\n",
       "      <td>0.131899</td>\n",
       "      <td>-0.022124</td>\n",
       "      <td>...</td>\n",
       "      <td>-0.000305</td>\n",
       "      <td>-0.628453</td>\n",
       "      <td>-1.339539</td>\n",
       "      <td>1.494982</td>\n",
       "      <td>-0.879591</td>\n",
       "      <td>0.565622</td>\n",
       "      <td>1.095937</td>\n",
       "      <td>-0.650479</td>\n",
       "      <td>0.758743</td>\n",
       "      <td>-0.012012</td>\n",
       "    </tr>\n",
       "    <tr>\n",
       "      <th>2</th>\n",
       "      <td>HTMVan.10B1</td>\n",
       "      <td>-0.494682</td>\n",
       "      <td>0.468054</td>\n",
       "      <td>-1.165669</td>\n",
       "      <td>1.400342</td>\n",
       "      <td>0.095167</td>\n",
       "      <td>-0.615882</td>\n",
       "      <td>-0.052469</td>\n",
       "      <td>-0.175951</td>\n",
       "      <td>-0.743183</td>\n",
       "      <td>...</td>\n",
       "      <td>0.024124</td>\n",
       "      <td>-0.445072</td>\n",
       "      <td>-1.593938</td>\n",
       "      <td>1.555155</td>\n",
       "      <td>-1.084509</td>\n",
       "      <td>0.877635</td>\n",
       "      <td>1.105216</td>\n",
       "      <td>-0.701744</td>\n",
       "      <td>0.424702</td>\n",
       "      <td>0.208243</td>\n",
       "    </tr>\n",
       "    <tr>\n",
       "      <th>3</th>\n",
       "      <td>HTMVan.10B1</td>\n",
       "      <td>0.045172</td>\n",
       "      <td>-0.712837</td>\n",
       "      <td>-1.211775</td>\n",
       "      <td>0.617426</td>\n",
       "      <td>-0.491368</td>\n",
       "      <td>-0.414576</td>\n",
       "      <td>-0.231331</td>\n",
       "      <td>0.170432</td>\n",
       "      <td>0.065418</td>\n",
       "      <td>...</td>\n",
       "      <td>-0.674945</td>\n",
       "      <td>1.091405</td>\n",
       "      <td>-0.310416</td>\n",
       "      <td>0.427969</td>\n",
       "      <td>0.120300</td>\n",
       "      <td>-0.435138</td>\n",
       "      <td>-0.545808</td>\n",
       "      <td>0.412314</td>\n",
       "      <td>0.128153</td>\n",
       "      <td>-0.313113</td>\n",
       "    </tr>\n",
       "    <tr>\n",
       "      <th>4</th>\n",
       "      <td>HTMVan.10B1</td>\n",
       "      <td>-0.703672</td>\n",
       "      <td>0.678344</td>\n",
       "      <td>-1.159584</td>\n",
       "      <td>1.581358</td>\n",
       "      <td>0.286007</td>\n",
       "      <td>-0.368840</td>\n",
       "      <td>-0.169128</td>\n",
       "      <td>-0.048448</td>\n",
       "      <td>-0.908420</td>\n",
       "      <td>...</td>\n",
       "      <td>0.229358</td>\n",
       "      <td>-0.605996</td>\n",
       "      <td>-1.726386</td>\n",
       "      <td>1.940127</td>\n",
       "      <td>-0.327482</td>\n",
       "      <td>1.084144</td>\n",
       "      <td>0.538159</td>\n",
       "      <td>-1.262533</td>\n",
       "      <td>0.400448</td>\n",
       "      <td>0.192428</td>\n",
       "    </tr>\n",
       "  </tbody>\n",
       "</table>\n",
       "<p>5 rows × 513 columns</p>\n",
       "</div>"
      ],
      "text/plain": [
       "   person name        f1        f2        f3        f4        f5        f6  \\\n",
       "0  HTMVan.10B1  0.322058 -0.433161 -0.672233  0.686782 -0.239042  0.528821   \n",
       "1  HTMVan.10B1 -0.799124  0.649721 -1.067423  1.807344  0.254739 -0.177150   \n",
       "2  HTMVan.10B1 -0.494682  0.468054 -1.165669  1.400342  0.095167 -0.615882   \n",
       "3  HTMVan.10B1  0.045172 -0.712837 -1.211775  0.617426 -0.491368 -0.414576   \n",
       "4  HTMVan.10B1 -0.703672  0.678344 -1.159584  1.581358  0.286007 -0.368840   \n",
       "\n",
       "         f7        f8        f9  ...      f503      f504      f505      f506  \\\n",
       "0 -0.515339  0.269433 -0.235005  ... -0.153020  0.075565 -0.272968  0.273718   \n",
       "1 -0.582705  0.131899 -0.022124  ... -0.000305 -0.628453 -1.339539  1.494982   \n",
       "2 -0.052469 -0.175951 -0.743183  ...  0.024124 -0.445072 -1.593938  1.555155   \n",
       "3 -0.231331  0.170432  0.065418  ... -0.674945  1.091405 -0.310416  0.427969   \n",
       "4 -0.169128 -0.048448 -0.908420  ...  0.229358 -0.605996 -1.726386  1.940127   \n",
       "\n",
       "       f507      f508      f509      f510      f511      f512  \n",
       "0  0.294176  0.196406  0.295513  0.115156  0.034416 -0.239489  \n",
       "1 -0.879591  0.565622  1.095937 -0.650479  0.758743 -0.012012  \n",
       "2 -1.084509  0.877635  1.105216 -0.701744  0.424702  0.208243  \n",
       "3  0.120300 -0.435138 -0.545808  0.412314  0.128153 -0.313113  \n",
       "4 -0.327482  1.084144  0.538159 -1.262533  0.400448  0.192428  \n",
       "\n",
       "[5 rows x 513 columns]"
      ]
     },
     "execution_count": 5,
     "metadata": {},
     "output_type": "execute_result"
    }
   ],
   "source": [
    "column_names = ['person name']\n",
    "for i in range(512):\n",
    "  column_names.append(f'f{i+1}')\n",
    "\n",
    "df_org = pd.DataFrame(data, columns=column_names)\n",
    "df_org.to_csv('face_features.csv', index=False)\n",
    "df_org.head()"
   ]
  },
  {
   "cell_type": "code",
   "execution_count": 6,
   "metadata": {},
   "outputs": [
    {
     "data": {
      "text/html": [
       "<div>\n",
       "<style scoped>\n",
       "    .dataframe tbody tr th:only-of-type {\n",
       "        vertical-align: middle;\n",
       "    }\n",
       "\n",
       "    .dataframe tbody tr th {\n",
       "        vertical-align: top;\n",
       "    }\n",
       "\n",
       "    .dataframe thead th {\n",
       "        text-align: right;\n",
       "    }\n",
       "</style>\n",
       "<table border=\"1\" class=\"dataframe\">\n",
       "  <thead>\n",
       "    <tr style=\"text-align: right;\">\n",
       "      <th></th>\n",
       "      <th>person name</th>\n",
       "      <th>f1</th>\n",
       "      <th>f2</th>\n",
       "      <th>f3</th>\n",
       "      <th>f4</th>\n",
       "      <th>f5</th>\n",
       "      <th>f6</th>\n",
       "      <th>f7</th>\n",
       "      <th>f8</th>\n",
       "      <th>f9</th>\n",
       "      <th>...</th>\n",
       "      <th>f503</th>\n",
       "      <th>f504</th>\n",
       "      <th>f505</th>\n",
       "      <th>f506</th>\n",
       "      <th>f507</th>\n",
       "      <th>f508</th>\n",
       "      <th>f509</th>\n",
       "      <th>f510</th>\n",
       "      <th>f511</th>\n",
       "      <th>f512</th>\n",
       "    </tr>\n",
       "  </thead>\n",
       "  <tbody>\n",
       "    <tr>\n",
       "      <th>31</th>\n",
       "      <td>6</td>\n",
       "      <td>0.065413</td>\n",
       "      <td>-0.187295</td>\n",
       "      <td>-1.038659</td>\n",
       "      <td>1.538978</td>\n",
       "      <td>-0.293485</td>\n",
       "      <td>0.406746</td>\n",
       "      <td>-0.348509</td>\n",
       "      <td>0.684315</td>\n",
       "      <td>-0.318287</td>\n",
       "      <td>...</td>\n",
       "      <td>0.325161</td>\n",
       "      <td>0.523756</td>\n",
       "      <td>-0.721655</td>\n",
       "      <td>-0.184646</td>\n",
       "      <td>-0.015526</td>\n",
       "      <td>0.533285</td>\n",
       "      <td>0.616137</td>\n",
       "      <td>-0.227958</td>\n",
       "      <td>-0.162661</td>\n",
       "      <td>-0.050137</td>\n",
       "    </tr>\n",
       "    <tr>\n",
       "      <th>14</th>\n",
       "      <td>2</td>\n",
       "      <td>0.407867</td>\n",
       "      <td>-0.612807</td>\n",
       "      <td>-1.313325</td>\n",
       "      <td>0.680938</td>\n",
       "      <td>-0.516027</td>\n",
       "      <td>0.275244</td>\n",
       "      <td>-0.685850</td>\n",
       "      <td>0.350532</td>\n",
       "      <td>-0.247275</td>\n",
       "      <td>...</td>\n",
       "      <td>-0.880548</td>\n",
       "      <td>0.655548</td>\n",
       "      <td>-0.380864</td>\n",
       "      <td>0.272583</td>\n",
       "      <td>0.365516</td>\n",
       "      <td>-0.544341</td>\n",
       "      <td>-0.361207</td>\n",
       "      <td>0.701107</td>\n",
       "      <td>-0.125609</td>\n",
       "      <td>0.587811</td>\n",
       "    </tr>\n",
       "    <tr>\n",
       "      <th>28</th>\n",
       "      <td>5</td>\n",
       "      <td>1.537214</td>\n",
       "      <td>0.711522</td>\n",
       "      <td>1.018210</td>\n",
       "      <td>1.930830</td>\n",
       "      <td>1.330557</td>\n",
       "      <td>0.777939</td>\n",
       "      <td>-0.970080</td>\n",
       "      <td>-0.518440</td>\n",
       "      <td>-0.336604</td>\n",
       "      <td>...</td>\n",
       "      <td>-1.285219</td>\n",
       "      <td>-0.995978</td>\n",
       "      <td>-1.087967</td>\n",
       "      <td>1.051478</td>\n",
       "      <td>0.489408</td>\n",
       "      <td>0.803257</td>\n",
       "      <td>-0.301194</td>\n",
       "      <td>-1.558794</td>\n",
       "      <td>1.355456</td>\n",
       "      <td>-0.797751</td>\n",
       "    </tr>\n",
       "    <tr>\n",
       "      <th>11</th>\n",
       "      <td>2</td>\n",
       "      <td>0.752431</td>\n",
       "      <td>0.567191</td>\n",
       "      <td>-1.104756</td>\n",
       "      <td>0.925440</td>\n",
       "      <td>2.291637</td>\n",
       "      <td>-1.201674</td>\n",
       "      <td>0.636121</td>\n",
       "      <td>-0.868004</td>\n",
       "      <td>-0.374025</td>\n",
       "      <td>...</td>\n",
       "      <td>0.480440</td>\n",
       "      <td>-1.035276</td>\n",
       "      <td>-0.660931</td>\n",
       "      <td>1.762441</td>\n",
       "      <td>0.387334</td>\n",
       "      <td>1.389582</td>\n",
       "      <td>-1.115315</td>\n",
       "      <td>-1.507602</td>\n",
       "      <td>1.039360</td>\n",
       "      <td>-0.508934</td>\n",
       "    </tr>\n",
       "    <tr>\n",
       "      <th>10</th>\n",
       "      <td>2</td>\n",
       "      <td>0.408099</td>\n",
       "      <td>0.367528</td>\n",
       "      <td>-1.162057</td>\n",
       "      <td>0.777386</td>\n",
       "      <td>1.704114</td>\n",
       "      <td>-1.169086</td>\n",
       "      <td>1.099095</td>\n",
       "      <td>-0.193038</td>\n",
       "      <td>-1.561782</td>\n",
       "      <td>...</td>\n",
       "      <td>-0.277343</td>\n",
       "      <td>-0.477478</td>\n",
       "      <td>-1.824376</td>\n",
       "      <td>1.601674</td>\n",
       "      <td>0.679094</td>\n",
       "      <td>2.099645</td>\n",
       "      <td>-1.126031</td>\n",
       "      <td>-1.482462</td>\n",
       "      <td>-0.125724</td>\n",
       "      <td>-0.730060</td>\n",
       "    </tr>\n",
       "  </tbody>\n",
       "</table>\n",
       "<p>5 rows × 513 columns</p>\n",
       "</div>"
      ],
      "text/plain": [
       "    person name        f1        f2        f3        f4        f5        f6  \\\n",
       "31            6  0.065413 -0.187295 -1.038659  1.538978 -0.293485  0.406746   \n",
       "14            2  0.407867 -0.612807 -1.313325  0.680938 -0.516027  0.275244   \n",
       "28            5  1.537214  0.711522  1.018210  1.930830  1.330557  0.777939   \n",
       "11            2  0.752431  0.567191 -1.104756  0.925440  2.291637 -1.201674   \n",
       "10            2  0.408099  0.367528 -1.162057  0.777386  1.704114 -1.169086   \n",
       "\n",
       "          f7        f8        f9  ...      f503      f504      f505      f506  \\\n",
       "31 -0.348509  0.684315 -0.318287  ...  0.325161  0.523756 -0.721655 -0.184646   \n",
       "14 -0.685850  0.350532 -0.247275  ... -0.880548  0.655548 -0.380864  0.272583   \n",
       "28 -0.970080 -0.518440 -0.336604  ... -1.285219 -0.995978 -1.087967  1.051478   \n",
       "11  0.636121 -0.868004 -0.374025  ...  0.480440 -1.035276 -0.660931  1.762441   \n",
       "10  1.099095 -0.193038 -1.561782  ... -0.277343 -0.477478 -1.824376  1.601674   \n",
       "\n",
       "        f507      f508      f509      f510      f511      f512  \n",
       "31 -0.015526  0.533285  0.616137 -0.227958 -0.162661 -0.050137  \n",
       "14  0.365516 -0.544341 -0.361207  0.701107 -0.125609  0.587811  \n",
       "28  0.489408  0.803257 -0.301194 -1.558794  1.355456 -0.797751  \n",
       "11  0.387334  1.389582 -1.115315 -1.507602  1.039360 -0.508934  \n",
       "10  0.679094  2.099645 -1.126031 -1.482462 -0.125724 -0.730060  \n",
       "\n",
       "[5 rows x 513 columns]"
      ]
     },
     "execution_count": 6,
     "metadata": {},
     "output_type": "execute_result"
    }
   ],
   "source": [
    "df = df_org.replace(dirs, [i for i in range(len(dirs))])\n",
    "df = df.sample(frac=1)\n",
    "df.head()"
   ]
  },
  {
   "cell_type": "code",
   "execution_count": 7,
   "metadata": {},
   "outputs": [],
   "source": [
    "\n",
    "cut = round(len(df) * .8)\n",
    "\n",
    "x_train = df.iloc[ :cut , 1:]\n",
    "y_train = df['person name'][ :cut]\n",
    "x_test = df.iloc[cut: , 1:]\n",
    "y_test = df['person name'][cut: ]\n",
    "     "
   ]
  },
  {
   "cell_type": "code",
   "execution_count": 8,
   "metadata": {},
   "outputs": [
    {
     "data": {
      "text/plain": [
       "28"
      ]
     },
     "execution_count": 8,
     "metadata": {},
     "output_type": "execute_result"
    }
   ],
   "source": [
    "len(x_train)"
   ]
  },
  {
   "cell_type": "code",
   "execution_count": null,
   "metadata": {},
   "outputs": [],
   "source": [
    "\n",
    "model = tf.keras.models.Sequential([\n",
    "    tf.keras.layers.Dense(1024, 'tanh', input_shape=(512,)),\n",
    "    tf.keras.layers.Dense(256, 'relu'),\n",
    "    tf.keras.layers.Dense(64, 'relu'),\n",
    "    tf.keras.layers.Dense(len(dirs), 'softmax')\n",
    "])\n",
    "model.compile(tf.keras.optimizers.Adamax(.0001), 'sparse_categorical_crossentropy', metrics=['accuracy'])\n",
    "output = model.fit(x_train, y_train, epochs=60, validation_data=(x_test, y_test))"
   ]
  },
  {
   "cell_type": "code",
   "execution_count": 10,
   "metadata": {},
   "outputs": [],
   "source": [
    "model.save('weights/model.h5')"
   ]
  },
  {
   "cell_type": "code",
   "execution_count": 6,
   "metadata": {},
   "outputs": [],
   "source": [
    "import config"
   ]
  },
  {
   "cell_type": "code",
   "execution_count": 8,
   "metadata": {},
   "outputs": [],
   "source": [
    "model = tf.keras.models.load_model(config.MODEL_WEIGHT_DIR)"
   ]
  },
  {
   "cell_type": "code",
   "execution_count": 11,
   "metadata": {},
   "outputs": [],
   "source": [
    "feature_vector1 = extract_features('test.jpg')"
   ]
  },
  {
   "cell_type": "code",
   "execution_count": 12,
   "metadata": {},
   "outputs": [
    {
     "name": "stdout",
     "output_type": "stream",
     "text": [
      "1/1 [==============================] - 0s 172ms/step\n",
      "The predicted class is 4 with a confidence of 95.42%\n",
      "1/1 [==============================] - 0s 24ms/step\n",
      "HDAKiet.10B1\n"
     ]
    }
   ],
   "source": [
    "prediction = model.predict([feature_vector1])\n",
    "\n",
    "# Get the index of the class with the highest probability\n",
    "predicted_class = np.argmax(prediction)\n",
    "\n",
    "# Get the confidence level (probability) of the predicted class\n",
    "confidence = prediction[0][predicted_class] * 100 \n",
    "print(f\"The predicted class is {predicted_class} with a confidence of {confidence:.2f}%\")\n",
    "print(dirs[np.argmax(model.predict([feature_vector1]))])\n",
    "\n"
   ]
  },
  {
   "cell_type": "code",
   "execution_count": 13,
   "metadata": {},
   "outputs": [
    {
     "name": "stdout",
     "output_type": "stream",
     "text": [
      "['HTMVan.10B1', 'TCTai.10B1', 'PPTuan.10B1', 'NDTAnh.10B1', 'HDAKiet.10B1', 'TCNNam.10B1', 'PTTHa.10B1']\n"
     ]
    }
   ],
   "source": [
    "print(dirs)"
   ]
  },
  {
   "cell_type": "code",
   "execution_count": 2,
   "metadata": {},
   "outputs": [],
   "source": [
    "import service"
   ]
  },
  {
   "cell_type": "code",
   "execution_count": 3,
   "metadata": {},
   "outputs": [],
   "source": [
    "query_search= \"\"\"\n",
    "        SELECT name \n",
    "        FROM student \n",
    "        WHERE id = $1\n",
    "        \"\"\"\n",
    "connection = await service.connect_to_db()\n",
    "student_update = await connection.fetchrow(query_search,\n",
    "                                        8)\n",
    "            \n",
    "           "
   ]
  },
  {
   "cell_type": "code",
   "execution_count": 5,
   "metadata": {},
   "outputs": [
    {
     "data": {
      "text/plain": [
       "'Mai Trung'"
      ]
     },
     "execution_count": 5,
     "metadata": {},
     "output_type": "execute_result"
    }
   ],
   "source": [
    "student_update['name']"
   ]
  }
 ],
 "metadata": {
  "kernelspec": {
   "display_name": "face_env",
   "language": "python",
   "name": "python3"
  },
  "language_info": {
   "codemirror_mode": {
    "name": "ipython",
    "version": 3
   },
   "file_extension": ".py",
   "mimetype": "text/x-python",
   "name": "python",
   "nbconvert_exporter": "python",
   "pygments_lexer": "ipython3",
   "version": "3.10.12"
  }
 },
 "nbformat": 4,
 "nbformat_minor": 2
}
